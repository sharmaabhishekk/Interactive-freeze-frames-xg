{
  "nbformat": 4,
  "nbformat_minor": 0,
  "metadata": {
    "colab": {
      "name": "xG_playground_model.ipynb",
      "provenance": [],
      "collapsed_sections": []
    },
    "kernelspec": {
      "name": "python3",
      "display_name": "Python 3"
    },
    "language_info": {
      "name": "python"
    },
    "accelerator": "GPU"
  },
  "cells": [
    {
      "cell_type": "markdown",
      "metadata": {
        "id": "-yAQoYjQ904N"
      },
      "source": [
        "# xG Playground - Build Your Own Model\n",
        "\n",
        "If you think you can build a better opponent-aware xG model then us - you're probably right! \n",
        "\n",
        "Use this notebook to build your own and benchmark against ours. Then if you know beginner Javascript, drop your model into your own interactive web app to fully test it out. Check out https://github.com/sharmaabhishekk/Interactive-freeze-frames-xg for the web app code."
      ]
    },
    {
      "cell_type": "markdown",
      "metadata": {
        "id": "3LuEl9VX_VWt"
      },
      "source": [
        "First install TensforFlow.js - https://www.tensorflow.org/js\n",
        "\n",
        "We need this to convert our model to Javascript form that can be called by a web app"
      ]
    },
    {
      "cell_type": "code",
      "metadata": {
        "id": "YxxT1-PO8gSV",
        "colab": {
          "base_uri": "https://localhost:8080/"
        },
        "outputId": "1d3b406e-2d7d-4191-8180-3d912fbdfc75"
      },
      "source": [
        "!pip install tensorflowjs"
      ],
      "execution_count": 1,
      "outputs": [
        {
          "output_type": "stream",
          "name": "stdout",
          "text": [
            "Collecting tensorflowjs\n",
            "  Downloading tensorflowjs-3.13.0-py3-none-any.whl (77 kB)\n",
            "\u001b[?25l\r\u001b[K     |████▎                           | 10 kB 25.9 MB/s eta 0:00:01\r\u001b[K     |████████▌                       | 20 kB 19.8 MB/s eta 0:00:01\r\u001b[K     |████████████▊                   | 30 kB 15.1 MB/s eta 0:00:01\r\u001b[K     |█████████████████               | 40 kB 13.8 MB/s eta 0:00:01\r\u001b[K     |█████████████████████▏          | 51 kB 10.6 MB/s eta 0:00:01\r\u001b[K     |█████████████████████████▍      | 61 kB 10.8 MB/s eta 0:00:01\r\u001b[K     |█████████████████████████████▊  | 71 kB 10.4 MB/s eta 0:00:01\r\u001b[K     |████████████████████████████████| 77 kB 4.0 MB/s \n",
            "\u001b[?25hRequirement already satisfied: six<2,>=1.12.0 in /usr/local/lib/python3.7/dist-packages (from tensorflowjs) (1.15.0)\n",
            "Requirement already satisfied: tensorflow-hub<0.13,>=0.7.0 in /usr/local/lib/python3.7/dist-packages (from tensorflowjs) (0.12.0)\n",
            "Requirement already satisfied: tensorflow<3,>=2.1.0 in /usr/local/lib/python3.7/dist-packages (from tensorflowjs) (2.7.0)\n",
            "Requirement already satisfied: wrapt>=1.11.0 in /usr/local/lib/python3.7/dist-packages (from tensorflow<3,>=2.1.0->tensorflowjs) (1.13.3)\n",
            "Requirement already satisfied: absl-py>=0.4.0 in /usr/local/lib/python3.7/dist-packages (from tensorflow<3,>=2.1.0->tensorflowjs) (1.0.0)\n",
            "Requirement already satisfied: keras<2.8,>=2.7.0rc0 in /usr/local/lib/python3.7/dist-packages (from tensorflow<3,>=2.1.0->tensorflowjs) (2.7.0)\n",
            "Requirement already satisfied: numpy>=1.14.5 in /usr/local/lib/python3.7/dist-packages (from tensorflow<3,>=2.1.0->tensorflowjs) (1.19.5)\n",
            "Requirement already satisfied: astunparse>=1.6.0 in /usr/local/lib/python3.7/dist-packages (from tensorflow<3,>=2.1.0->tensorflowjs) (1.6.3)\n",
            "Requirement already satisfied: protobuf>=3.9.2 in /usr/local/lib/python3.7/dist-packages (from tensorflow<3,>=2.1.0->tensorflowjs) (3.17.3)\n",
            "Requirement already satisfied: flatbuffers<3.0,>=1.12 in /usr/local/lib/python3.7/dist-packages (from tensorflow<3,>=2.1.0->tensorflowjs) (2.0)\n",
            "Requirement already satisfied: h5py>=2.9.0 in /usr/local/lib/python3.7/dist-packages (from tensorflow<3,>=2.1.0->tensorflowjs) (3.1.0)\n",
            "Requirement already satisfied: opt-einsum>=2.3.2 in /usr/local/lib/python3.7/dist-packages (from tensorflow<3,>=2.1.0->tensorflowjs) (3.3.0)\n",
            "Requirement already satisfied: tensorflow-io-gcs-filesystem>=0.21.0 in /usr/local/lib/python3.7/dist-packages (from tensorflow<3,>=2.1.0->tensorflowjs) (0.23.1)\n",
            "Requirement already satisfied: libclang>=9.0.1 in /usr/local/lib/python3.7/dist-packages (from tensorflow<3,>=2.1.0->tensorflowjs) (12.0.0)\n",
            "Requirement already satisfied: google-pasta>=0.1.1 in /usr/local/lib/python3.7/dist-packages (from tensorflow<3,>=2.1.0->tensorflowjs) (0.2.0)\n",
            "Requirement already satisfied: gast<0.5.0,>=0.2.1 in /usr/local/lib/python3.7/dist-packages (from tensorflow<3,>=2.1.0->tensorflowjs) (0.4.0)\n",
            "Requirement already satisfied: keras-preprocessing>=1.1.1 in /usr/local/lib/python3.7/dist-packages (from tensorflow<3,>=2.1.0->tensorflowjs) (1.1.2)\n",
            "Requirement already satisfied: tensorboard~=2.6 in /usr/local/lib/python3.7/dist-packages (from tensorflow<3,>=2.1.0->tensorflowjs) (2.7.0)\n",
            "Requirement already satisfied: tensorflow-estimator<2.8,~=2.7.0rc0 in /usr/local/lib/python3.7/dist-packages (from tensorflow<3,>=2.1.0->tensorflowjs) (2.7.0)\n",
            "Requirement already satisfied: wheel<1.0,>=0.32.0 in /usr/local/lib/python3.7/dist-packages (from tensorflow<3,>=2.1.0->tensorflowjs) (0.37.1)\n",
            "Requirement already satisfied: grpcio<2.0,>=1.24.3 in /usr/local/lib/python3.7/dist-packages (from tensorflow<3,>=2.1.0->tensorflowjs) (1.43.0)\n",
            "Requirement already satisfied: typing-extensions>=3.6.6 in /usr/local/lib/python3.7/dist-packages (from tensorflow<3,>=2.1.0->tensorflowjs) (3.10.0.2)\n",
            "Requirement already satisfied: termcolor>=1.1.0 in /usr/local/lib/python3.7/dist-packages (from tensorflow<3,>=2.1.0->tensorflowjs) (1.1.0)\n",
            "Requirement already satisfied: cached-property in /usr/local/lib/python3.7/dist-packages (from h5py>=2.9.0->tensorflow<3,>=2.1.0->tensorflowjs) (1.5.2)\n",
            "Requirement already satisfied: requests<3,>=2.21.0 in /usr/local/lib/python3.7/dist-packages (from tensorboard~=2.6->tensorflow<3,>=2.1.0->tensorflowjs) (2.23.0)\n",
            "Requirement already satisfied: werkzeug>=0.11.15 in /usr/local/lib/python3.7/dist-packages (from tensorboard~=2.6->tensorflow<3,>=2.1.0->tensorflowjs) (1.0.1)\n",
            "Requirement already satisfied: markdown>=2.6.8 in /usr/local/lib/python3.7/dist-packages (from tensorboard~=2.6->tensorflow<3,>=2.1.0->tensorflowjs) (3.3.6)\n",
            "Requirement already satisfied: setuptools>=41.0.0 in /usr/local/lib/python3.7/dist-packages (from tensorboard~=2.6->tensorflow<3,>=2.1.0->tensorflowjs) (57.4.0)\n",
            "Requirement already satisfied: tensorboard-data-server<0.7.0,>=0.6.0 in /usr/local/lib/python3.7/dist-packages (from tensorboard~=2.6->tensorflow<3,>=2.1.0->tensorflowjs) (0.6.1)\n",
            "Requirement already satisfied: google-auth<3,>=1.6.3 in /usr/local/lib/python3.7/dist-packages (from tensorboard~=2.6->tensorflow<3,>=2.1.0->tensorflowjs) (1.35.0)\n",
            "Requirement already satisfied: tensorboard-plugin-wit>=1.6.0 in /usr/local/lib/python3.7/dist-packages (from tensorboard~=2.6->tensorflow<3,>=2.1.0->tensorflowjs) (1.8.1)\n",
            "Requirement already satisfied: google-auth-oauthlib<0.5,>=0.4.1 in /usr/local/lib/python3.7/dist-packages (from tensorboard~=2.6->tensorflow<3,>=2.1.0->tensorflowjs) (0.4.6)\n",
            "Requirement already satisfied: pyasn1-modules>=0.2.1 in /usr/local/lib/python3.7/dist-packages (from google-auth<3,>=1.6.3->tensorboard~=2.6->tensorflow<3,>=2.1.0->tensorflowjs) (0.2.8)\n",
            "Requirement already satisfied: rsa<5,>=3.1.4 in /usr/local/lib/python3.7/dist-packages (from google-auth<3,>=1.6.3->tensorboard~=2.6->tensorflow<3,>=2.1.0->tensorflowjs) (4.8)\n",
            "Requirement already satisfied: cachetools<5.0,>=2.0.0 in /usr/local/lib/python3.7/dist-packages (from google-auth<3,>=1.6.3->tensorboard~=2.6->tensorflow<3,>=2.1.0->tensorflowjs) (4.2.4)\n",
            "Requirement already satisfied: requests-oauthlib>=0.7.0 in /usr/local/lib/python3.7/dist-packages (from google-auth-oauthlib<0.5,>=0.4.1->tensorboard~=2.6->tensorflow<3,>=2.1.0->tensorflowjs) (1.3.0)\n",
            "Requirement already satisfied: importlib-metadata>=4.4 in /usr/local/lib/python3.7/dist-packages (from markdown>=2.6.8->tensorboard~=2.6->tensorflow<3,>=2.1.0->tensorflowjs) (4.10.1)\n",
            "Requirement already satisfied: zipp>=0.5 in /usr/local/lib/python3.7/dist-packages (from importlib-metadata>=4.4->markdown>=2.6.8->tensorboard~=2.6->tensorflow<3,>=2.1.0->tensorflowjs) (3.7.0)\n",
            "Requirement already satisfied: pyasn1<0.5.0,>=0.4.6 in /usr/local/lib/python3.7/dist-packages (from pyasn1-modules>=0.2.1->google-auth<3,>=1.6.3->tensorboard~=2.6->tensorflow<3,>=2.1.0->tensorflowjs) (0.4.8)\n",
            "Requirement already satisfied: chardet<4,>=3.0.2 in /usr/local/lib/python3.7/dist-packages (from requests<3,>=2.21.0->tensorboard~=2.6->tensorflow<3,>=2.1.0->tensorflowjs) (3.0.4)\n",
            "Requirement already satisfied: certifi>=2017.4.17 in /usr/local/lib/python3.7/dist-packages (from requests<3,>=2.21.0->tensorboard~=2.6->tensorflow<3,>=2.1.0->tensorflowjs) (2021.10.8)\n",
            "Requirement already satisfied: urllib3!=1.25.0,!=1.25.1,<1.26,>=1.21.1 in /usr/local/lib/python3.7/dist-packages (from requests<3,>=2.21.0->tensorboard~=2.6->tensorflow<3,>=2.1.0->tensorflowjs) (1.24.3)\n",
            "Requirement already satisfied: idna<3,>=2.5 in /usr/local/lib/python3.7/dist-packages (from requests<3,>=2.21.0->tensorboard~=2.6->tensorflow<3,>=2.1.0->tensorflowjs) (2.10)\n",
            "Requirement already satisfied: oauthlib>=3.0.0 in /usr/local/lib/python3.7/dist-packages (from requests-oauthlib>=0.7.0->google-auth-oauthlib<0.5,>=0.4.1->tensorboard~=2.6->tensorflow<3,>=2.1.0->tensorflowjs) (3.1.1)\n",
            "Installing collected packages: tensorflowjs\n",
            "Successfully installed tensorflowjs-3.13.0\n"
          ]
        }
      ]
    },
    {
      "cell_type": "markdown",
      "metadata": {
        "id": "CXOkmT07_5Vs"
      },
      "source": [
        "Import all requirements"
      ]
    },
    {
      "cell_type": "code",
      "metadata": {
        "id": "wQyDCjAnwcgA"
      },
      "source": [
        "import pandas as pd\n",
        "import numpy as np\n",
        "import matplotlib.pyplot as plt\n",
        "\n",
        "import tensorflow as tf\n",
        "from tensorflow.keras.layers import Input, Dense, Conv2D, MaxPooling2D, Flatten, Dropout, Concatenate\n",
        "from tensorflow.keras.callbacks import EarlyStopping, ReduceLROnPlateau\n",
        "from tensorflow.keras.models import Model, load_model\n",
        "from tensorflow.keras.optimizers import Adam\n",
        "from tensorflow.keras.constraints import max_norm\n",
        "\n",
        "import tensorflowjs as tfjs\n",
        "\n",
        "from sklearn.model_selection import train_test_split\n",
        "from sklearn.calibration import calibration_curve\n",
        "\n",
        "tf.config.run_functions_eagerly(True)"
      ],
      "execution_count": 2,
      "outputs": []
    },
    {
      "cell_type": "markdown",
      "metadata": {
        "id": "w2AzinAYAaG8"
      },
      "source": [
        "Go to https://github.com/opengoalapp/ConvNets/tree/master/data and download a preprocessed snapshot of Statsbomb's open shot freeze frame data from June 2020.\n",
        "\n",
        "Place the two files in a folder on your drive called \"convnet_data\" - or anything you like and then change the code below accordingly"
      ]
    },
    {
      "cell_type": "code",
      "metadata": {
        "id": "-6dopqQxw7sJ"
      },
      "source": [
        "loaded = np.load('/content/drive/MyDrive/convnet_data/input_compressed.npz')\n",
        "DataIn = loaded['a']\n",
        "DataOut = pd.read_pickle(\"/content/drive/MyDrive/convnet_data/output_arrays.pkl\")\n",
        "\n",
        "DataIn = DataIn.astype('float32')"
      ],
      "execution_count": null,
      "outputs": []
    },
    {
      "cell_type": "markdown",
      "metadata": {
        "id": "D9P_FpS_B7FE"
      },
      "source": [
        "Verify the shape of the input data to confirm we have around 18,000 shots described as 3-channel binary arrays.\n",
        "\n",
        "See https://www.opengoalapp.com/xg-with-cnns-full-study for details of this notation.\n",
        "\n",
        "![image.png](data:image/png;base64,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)"
      ]
    },
    {
      "cell_type": "code",
      "metadata": {
        "colab": {
          "base_uri": "https://localhost:8080/"
        },
        "id": "ZofB70ZxNtsq",
        "outputId": "92e0f4ad-8b32-46bc-bc94-2a50a4806102"
      },
      "source": [
        "DataIn.shape"
      ],
      "execution_count": null,
      "outputs": [
        {
          "output_type": "execute_result",
          "data": {
            "text/plain": [
              "(17975, 40, 80, 3)"
            ]
          },
          "metadata": {},
          "execution_count": 4
        }
      ]
    },
    {
      "cell_type": "markdown",
      "metadata": {
        "id": "sxsMKPQoDla0"
      },
      "source": [
        "Next we can inspect the output dataframe we imported. We'll only be using `shot_outcome` for model training. But with the additonal fields we can sanity check any model outputs with the Statsbomb xG for the shot."
      ]
    },
    {
      "cell_type": "code",
      "metadata": {
        "colab": {
          "base_uri": "https://localhost:8080/",
          "height": 238
        },
        "id": "iktl3gvXDdps",
        "outputId": "6beb4ca8-f347-415f-9e4b-009acb0b2eee"
      },
      "source": [
        "DataOut.head()"
      ],
      "execution_count": null,
      "outputs": [
        {
          "output_type": "execute_result",
          "data": {
            "text/html": [
              "\n",
              "  <div id=\"df-f9a732c6-03ae-4b98-950b-3dd6a6d7dcfd\">\n",
              "    <div class=\"colab-df-container\">\n",
              "      <div>\n",
              "<style scoped>\n",
              "    .dataframe tbody tr th:only-of-type {\n",
              "        vertical-align: middle;\n",
              "    }\n",
              "\n",
              "    .dataframe tbody tr th {\n",
              "        vertical-align: top;\n",
              "    }\n",
              "\n",
              "    .dataframe thead th {\n",
              "        text-align: right;\n",
              "    }\n",
              "</style>\n",
              "<table border=\"1\" class=\"dataframe\">\n",
              "  <thead>\n",
              "    <tr style=\"text-align: right;\">\n",
              "      <th></th>\n",
              "      <th>shot_outcome</th>\n",
              "      <th>statsbomb_xg</th>\n",
              "      <th>team</th>\n",
              "    </tr>\n",
              "    <tr>\n",
              "      <th>id</th>\n",
              "      <th></th>\n",
              "      <th></th>\n",
              "      <th></th>\n",
              "    </tr>\n",
              "  </thead>\n",
              "  <tbody>\n",
              "    <tr>\n",
              "      <th>00007fd2-738e-4b27-bb68-7bdeffc77ee7</th>\n",
              "      <td>0</td>\n",
              "      <td>0.020466</td>\n",
              "      <td>Espanyol</td>\n",
              "    </tr>\n",
              "    <tr>\n",
              "      <th>00042e9f-890a-4e6a-9f54-702dd9b012d9</th>\n",
              "      <td>0</td>\n",
              "      <td>0.020076</td>\n",
              "      <td>Manchester City WFC</td>\n",
              "    </tr>\n",
              "    <tr>\n",
              "      <th>00063980-fd46-4b06-8eff-58916206ae80</th>\n",
              "      <td>1</td>\n",
              "      <td>0.154954</td>\n",
              "      <td>Reading WFC</td>\n",
              "    </tr>\n",
              "    <tr>\n",
              "      <th>0006c5eb-7d26-460d-b073-341302cac818</th>\n",
              "      <td>0</td>\n",
              "      <td>0.131828</td>\n",
              "      <td>Bristol City WFC</td>\n",
              "    </tr>\n",
              "    <tr>\n",
              "      <th>001bbff8-5927-44ba-9a78-1cca93f009b6</th>\n",
              "      <td>0</td>\n",
              "      <td>0.083931</td>\n",
              "      <td>France</td>\n",
              "    </tr>\n",
              "  </tbody>\n",
              "</table>\n",
              "</div>\n",
              "      <button class=\"colab-df-convert\" onclick=\"convertToInteractive('df-f9a732c6-03ae-4b98-950b-3dd6a6d7dcfd')\"\n",
              "              title=\"Convert this dataframe to an interactive table.\"\n",
              "              style=\"display:none;\">\n",
              "        \n",
              "  <svg xmlns=\"http://www.w3.org/2000/svg\" height=\"24px\"viewBox=\"0 0 24 24\"\n",
              "       width=\"24px\">\n",
              "    <path d=\"M0 0h24v24H0V0z\" fill=\"none\"/>\n",
              "    <path d=\"M18.56 5.44l.94 2.06.94-2.06 2.06-.94-2.06-.94-.94-2.06-.94 2.06-2.06.94zm-11 1L8.5 8.5l.94-2.06 2.06-.94-2.06-.94L8.5 2.5l-.94 2.06-2.06.94zm10 10l.94 2.06.94-2.06 2.06-.94-2.06-.94-.94-2.06-.94 2.06-2.06.94z\"/><path d=\"M17.41 7.96l-1.37-1.37c-.4-.4-.92-.59-1.43-.59-.52 0-1.04.2-1.43.59L10.3 9.45l-7.72 7.72c-.78.78-.78 2.05 0 2.83L4 21.41c.39.39.9.59 1.41.59.51 0 1.02-.2 1.41-.59l7.78-7.78 2.81-2.81c.8-.78.8-2.07 0-2.86zM5.41 20L4 18.59l7.72-7.72 1.47 1.35L5.41 20z\"/>\n",
              "  </svg>\n",
              "      </button>\n",
              "      \n",
              "  <style>\n",
              "    .colab-df-container {\n",
              "      display:flex;\n",
              "      flex-wrap:wrap;\n",
              "      gap: 12px;\n",
              "    }\n",
              "\n",
              "    .colab-df-convert {\n",
              "      background-color: #E8F0FE;\n",
              "      border: none;\n",
              "      border-radius: 50%;\n",
              "      cursor: pointer;\n",
              "      display: none;\n",
              "      fill: #1967D2;\n",
              "      height: 32px;\n",
              "      padding: 0 0 0 0;\n",
              "      width: 32px;\n",
              "    }\n",
              "\n",
              "    .colab-df-convert:hover {\n",
              "      background-color: #E2EBFA;\n",
              "      box-shadow: 0px 1px 2px rgba(60, 64, 67, 0.3), 0px 1px 3px 1px rgba(60, 64, 67, 0.15);\n",
              "      fill: #174EA6;\n",
              "    }\n",
              "\n",
              "    [theme=dark] .colab-df-convert {\n",
              "      background-color: #3B4455;\n",
              "      fill: #D2E3FC;\n",
              "    }\n",
              "\n",
              "    [theme=dark] .colab-df-convert:hover {\n",
              "      background-color: #434B5C;\n",
              "      box-shadow: 0px 1px 3px 1px rgba(0, 0, 0, 0.15);\n",
              "      filter: drop-shadow(0px 1px 2px rgba(0, 0, 0, 0.3));\n",
              "      fill: #FFFFFF;\n",
              "    }\n",
              "  </style>\n",
              "\n",
              "      <script>\n",
              "        const buttonEl =\n",
              "          document.querySelector('#df-f9a732c6-03ae-4b98-950b-3dd6a6d7dcfd button.colab-df-convert');\n",
              "        buttonEl.style.display =\n",
              "          google.colab.kernel.accessAllowed ? 'block' : 'none';\n",
              "\n",
              "        async function convertToInteractive(key) {\n",
              "          const element = document.querySelector('#df-f9a732c6-03ae-4b98-950b-3dd6a6d7dcfd');\n",
              "          const dataTable =\n",
              "            await google.colab.kernel.invokeFunction('convertToInteractive',\n",
              "                                                     [key], {});\n",
              "          if (!dataTable) return;\n",
              "\n",
              "          const docLinkHtml = 'Like what you see? Visit the ' +\n",
              "            '<a target=\"_blank\" href=https://colab.research.google.com/notebooks/data_table.ipynb>data table notebook</a>'\n",
              "            + ' to learn more about interactive tables.';\n",
              "          element.innerHTML = '';\n",
              "          dataTable['output_type'] = 'display_data';\n",
              "          await google.colab.output.renderOutput(dataTable, element);\n",
              "          const docLink = document.createElement('div');\n",
              "          docLink.innerHTML = docLinkHtml;\n",
              "          element.appendChild(docLink);\n",
              "        }\n",
              "      </script>\n",
              "    </div>\n",
              "  </div>\n",
              "  "
            ],
            "text/plain": [
              "                                      shot_outcome  ...                 team\n",
              "id                                                  ...                     \n",
              "00007fd2-738e-4b27-bb68-7bdeffc77ee7             0  ...             Espanyol\n",
              "00042e9f-890a-4e6a-9f54-702dd9b012d9             0  ...  Manchester City WFC\n",
              "00063980-fd46-4b06-8eff-58916206ae80             1  ...          Reading WFC\n",
              "0006c5eb-7d26-460d-b073-341302cac818             0  ...     Bristol City WFC\n",
              "001bbff8-5927-44ba-9a78-1cca93f009b6             0  ...               France\n",
              "\n",
              "[5 rows x 3 columns]"
            ]
          },
          "metadata": {},
          "execution_count": 5
        }
      ]
    },
    {
      "cell_type": "markdown",
      "metadata": {
        "id": "HLOBZzsGEKJ8"
      },
      "source": [
        "This version of the model uses 4 helper columns which aim to help the model \"understand\" the relationship between a shot situation and xG a bit better with the data we have.\n",
        "\n",
        "These columns are:\n",
        "\n",
        "* The distance between the ball and the goal centre\n",
        "* The angle between the ball and goal centre\n",
        "* The distance between the goalkeeper and the goal centre\n",
        "* The angle between the goalkeeper and goal centre\n",
        "\n",
        "This doesn't give us any additonal information that isn't contained in the binary arrays, but it tells the model-up front things about the shot situation we know are important and can help stabilize the model to give realistic outputs for a wider array of input scenarios at prediction time.\n",
        "\n",
        "So these new inputs can now be generated \n",
        "\n",
        "\n",
        "\n"
      ]
    },
    {
      "cell_type": "code",
      "metadata": {
        "id": "zdSSM1pnhTVG"
      },
      "source": [
        "# x distance from ball to goal line\n",
        "x_dists = np.array([40 - np.nonzero(DataIn[i,:,:,0])[0][0] for i in range(len(DataIn))])\n",
        "\n",
        "# y abs distance from ball loc to goal centre\n",
        "y_dists = np.array([abs(40 - np.nonzero(DataIn[i,:,:,0])[1][0]) for i in range(len(DataIn))]) # we'll mirror the angle for y positions > 40\n",
        "\n",
        "# It is slightly more involved to do the same for the GK frames, as some frames don't have a goalkeeper in them! For those shots we will say the GK is present but completely out of the way.\n",
        "gkx_dists = []\n",
        "gky_dists = []\n",
        "for i in range(len(DataIn)):\n",
        "  try:\n",
        "    x = 40 - np.nonzero(DataIn[i,:,:,1])[0][0]\n",
        "    y = abs(40 - np.nonzero(DataIn[i,:,:,1])[1][0]) \n",
        "  except IndexError: # No keeper in frame - set to corner flag\n",
        "    x = 0.1\n",
        "    y = 40\n",
        "\n",
        "  gkx_dists.append(x)\n",
        "  gky_dists.append(y)\n",
        "\n",
        "gkx_dists = np.array(gkx_dists)\n",
        "gky_dists = np.array(gky_dists)\n",
        "\n",
        "# From the x,y distances calculate the straight line distance and angle\n",
        "dists = (x_dists**2 + y_dists**2)**0.5\n",
        "angles = np.arctan2(y_dists, x_dists)\n",
        "\n",
        "gk_dists = (gkx_dists**2 + gky_dists**2)**0.5\n",
        "gk_angles = np.arctan2(gky_dists, gkx_dists)\n",
        "\n",
        "# Convert to a (,4) array\n",
        "AuxIn = np.vstack((dists, angles, gk_dists, gk_angles)).T"
      ],
      "execution_count": null,
      "outputs": []
    },
    {
      "cell_type": "markdown",
      "metadata": {
        "id": "Yb7Q6ifQHTyz"
      },
      "source": [
        "We can now prepare the data for model training and testing. Here we'll use a 75-25 train-test split."
      ]
    },
    {
      "cell_type": "code",
      "metadata": {
        "id": "eKFB4wmZxKaM"
      },
      "source": [
        "# split data into train and test\n",
        "x_train, x_test, xaux_train, xaux_test, out_train, out_test = train_test_split(DataIn, AuxIn, DataOut, test_size=0.25, random_state=42)\n",
        "\n",
        "x_test = np.float32(x_test)\n",
        "x_train = np.float32(x_train)\n",
        "xaux_train = np.float32(xaux_train)\n",
        "xaux_test = np.float32(xaux_test)\n",
        "\n",
        "# We only want the shot outcome for training, but we do this after the split so we have the correct statsbomb xG for each shot\n",
        "y_train = out_train.loc[:, 'shot_outcome'].values.astype('float32') \n",
        "y_test = out_test.loc[:, 'shot_outcome'].values.astype('float32')"
      ],
      "execution_count": null,
      "outputs": []
    },
    {
      "cell_type": "markdown",
      "metadata": {
        "id": "dwzg_PoqHyoj"
      },
      "source": [
        "Let's build the model. The architecture below is implemented on xgplayground.com. You can try changing some of the parameters or completely rebuild from the ground up."
      ]
    },
    {
      "cell_type": "code",
      "metadata": {
        "id": "TgRJkivExO1c"
      },
      "source": [
        "# Specify the activation function for the bulk of the layers\n",
        "activation = tf.keras.layers.LeakyReLU(alpha=0.1) # Important here as the network is 5 layers deep\n",
        "\n",
        "# Specify our two inputs: the 3-channel binary image input and the ball/GK location helper input\n",
        "input_img = Input(shape=(40, 80, 3), dtype='float32')\n",
        "input_aux = Input(shape=(4), dtype='float32')\n",
        "\n",
        "# The pathway for the helper inputs is just a simple logisitc regression \n",
        "output_naive = Dense(1, activation='sigmoid', name = 'naive')(input_aux) # naive xG\n",
        "\n",
        "# Define main CNN blocks\n",
        "block1 = Conv2D(32, (5, 5), activation=activation, padding='same')(input_img)\n",
        "\n",
        "x = MaxPooling2D((2, 2), padding='same')(block1)\n",
        "\n",
        "block2 = Conv2D(64, (9, 9), activation=activation, padding='same')(x)\n",
        "\n",
        "x = MaxPooling2D((2, 2), padding='same')(block2)\n",
        "\n",
        "block3 = Conv2D(32, (3, 3), activation=activation, padding='same')(x)\n",
        "\n",
        "x = MaxPooling2D((2, 2), padding='same')(block3)\n",
        "\n",
        "# Flatten the output ahead of 2 fully connect layers\n",
        "x = Flatten()(x)\n",
        "\n",
        "x = Dense(30, activation=activation)(x)\n",
        "\n",
        "#x = Dropout(0.2)(x) # Adding some random dropout to help reduce overfitting and improve model generalization\n",
        "\n",
        "x = Dense(10, activation=activation)(x)\n",
        "\n",
        "#x = Dropout(0.2)(x)\n",
        "\n",
        "x = Dense(1, activation='linear')(x) # CNN xG\n",
        "\n",
        "# Feed the output of the helper input pathway back into the main network\n",
        "x = Concatenate()([x,output_naive])\n",
        "\n",
        "# Use sigmoid activation to constrain our xG output to 0-1. Hopefully it calibrates well vs actual goal probabilities - we'll check this later\n",
        "output_xg = Dense(1, kernel_constraint=max_norm(1), activation='sigmoid', name = 'output')(x)\n",
        "\n",
        "\n",
        "model = Model([input_img, input_aux], outputs = [output_naive, output_xg])"
      ],
      "execution_count": null,
      "outputs": []
    },
    {
      "cell_type": "markdown",
      "metadata": {
        "id": "HDpIrAPKVzRC"
      },
      "source": [
        "Now we're ready to compile the model and set callbacks for early stopping and gradual reduction of the learning rate."
      ]
    },
    {
      "cell_type": "code",
      "metadata": {
        "id": "hwZr_HhWVv5D"
      },
      "source": [
        "optimizer = Adam(learning_rate=0.0015)\n",
        "\n",
        "model.compile(optimizer=optimizer, loss='binary_crossentropy')\n",
        "\n",
        "early_stop = EarlyStopping(monitor='val_loss', min_delta=0,\n",
        "                           patience=10, verbose=0, mode='auto',\n",
        "                           baseline=None, restore_best_weights=True)\n",
        "\n",
        "reduce_lr = ReduceLROnPlateau(monitor='val_loss', factor=0.2,\n",
        "                              patience=5, min_lr=0.00001)"
      ],
      "execution_count": null,
      "outputs": []
    },
    {
      "cell_type": "markdown",
      "metadata": {
        "id": "0DyIv9AFWBdD"
      },
      "source": [
        "Print out a summary of the model architecture. This is always useful for making sure the model is connected up correctly!"
      ]
    },
    {
      "cell_type": "code",
      "metadata": {
        "colab": {
          "base_uri": "https://localhost:8080/"
        },
        "id": "qWB6r67kKgbj",
        "outputId": "9bdb9ac9-1eb0-43d8-c161-07cf7ea1506b"
      },
      "source": [
        "model.summary()"
      ],
      "execution_count": null,
      "outputs": [
        {
          "output_type": "stream",
          "name": "stdout",
          "text": [
            "Model: \"model\"\n",
            "__________________________________________________________________________________________________\n",
            " Layer (type)                   Output Shape         Param #     Connected to                     \n",
            "==================================================================================================\n",
            " input_1 (InputLayer)           [(None, 40, 80, 3)]  0           []                               \n",
            "                                                                                                  \n",
            " conv2d (Conv2D)                (None, 40, 80, 32)   2432        ['input_1[0][0]']                \n",
            "                                                                                                  \n",
            " max_pooling2d (MaxPooling2D)   (None, 20, 40, 32)   0           ['conv2d[0][0]']                 \n",
            "                                                                                                  \n",
            " conv2d_1 (Conv2D)              (None, 20, 40, 64)   165952      ['max_pooling2d[0][0]']          \n",
            "                                                                                                  \n",
            " max_pooling2d_1 (MaxPooling2D)  (None, 10, 20, 64)  0           ['conv2d_1[0][0]']               \n",
            "                                                                                                  \n",
            " conv2d_2 (Conv2D)              (None, 10, 20, 32)   18464       ['max_pooling2d_1[0][0]']        \n",
            "                                                                                                  \n",
            " max_pooling2d_2 (MaxPooling2D)  (None, 5, 10, 32)   0           ['conv2d_2[0][0]']               \n",
            "                                                                                                  \n",
            " flatten (Flatten)              (None, 1600)         0           ['max_pooling2d_2[0][0]']        \n",
            "                                                                                                  \n",
            " dense (Dense)                  (None, 30)           48030       ['flatten[0][0]']                \n",
            "                                                                                                  \n",
            " input_2 (InputLayer)           [(None, 4)]          0           []                               \n",
            "                                                                                                  \n",
            " dense_1 (Dense)                (None, 10)           310         ['dense[0][0]']                  \n",
            "                                                                                                  \n",
            " naive (Dense)                  (None, 1)            5           ['input_2[0][0]']                \n",
            "                                                                                                  \n",
            " dense_2 (Dense)                (None, 1)            11          ['dense_1[0][0]']                \n",
            "                                                                                                  \n",
            " concatenate (Concatenate)      (None, 2)            0           ['dense_2[0][0]',                \n",
            "                                                                  'naive[0][0]']                  \n",
            "                                                                                                  \n",
            " output (Dense)                 (None, 1)            3           ['concatenate[0][0]']            \n",
            "                                                                                                  \n",
            "==================================================================================================\n",
            "Total params: 235,207\n",
            "Trainable params: 235,207\n",
            "Non-trainable params: 0\n",
            "__________________________________________________________________________________________________\n"
          ]
        }
      ]
    },
    {
      "cell_type": "markdown",
      "metadata": {
        "id": "-gWMJ-LpWbvx"
      },
      "source": [
        "Now the model is ready to train. You can also experiment with batch size.\n",
        "\n",
        "The model should train suitably well before 30 epochs. The early stopping callback ensures the best weights are restored before any overfitting starts to occur."
      ]
    },
    {
      "cell_type": "code",
      "metadata": {
        "id": "looFoOFdxUOw",
        "colab": {
          "base_uri": "https://localhost:8080/"
        },
        "outputId": "d5454ff4-043f-45d0-87ba-364ca59dca6e"
      },
      "source": [
        "model.fit([x_train, xaux_train], y_train,\n",
        "          epochs=100,\n",
        "          batch_size=32,\n",
        "          shuffle=True,\n",
        "          validation_data=([x_test, xaux_test], y_test),\n",
        "          callbacks=[early_stop, reduce_lr])\n"
      ],
      "execution_count": null,
      "outputs": [
        {
          "output_type": "stream",
          "name": "stderr",
          "text": [
            "/usr/local/lib/python3.7/dist-packages/tensorflow/python/data/ops/dataset_ops.py:4527: UserWarning: Even though the `tf.config.experimental_run_functions_eagerly` option is set, this option does not apply to tf.data functions. To force eager execution of tf.data functions, please use `tf.data.experimental.enable_debug_mode()`.\n",
            "  \"Even though the `tf.config.experimental_run_functions_eagerly` \"\n"
          ]
        },
        {
          "output_type": "stream",
          "name": "stdout",
          "text": [
            "Epoch 1/100\n",
            "422/422 [==============================] - 38s 68ms/step - loss: 1.2193 - naive_loss: 0.8971 - output_loss: 0.3223 - val_loss: 0.6741 - val_naive_loss: 0.3723 - val_output_loss: 0.3018 - lr: 0.0015\n",
            "Epoch 2/100\n",
            "422/422 [==============================] - 29s 68ms/step - loss: 0.6688 - naive_loss: 0.3670 - output_loss: 0.3018 - val_loss: 0.6361 - val_naive_loss: 0.3341 - val_output_loss: 0.3020 - lr: 0.0015\n",
            "Epoch 3/100\n",
            "422/422 [==============================] - 29s 69ms/step - loss: 0.6264 - naive_loss: 0.3338 - output_loss: 0.2925 - val_loss: 0.6108 - val_naive_loss: 0.3127 - val_output_loss: 0.2981 - lr: 0.0015\n",
            "Epoch 4/100\n",
            "422/422 [==============================] - 37s 88ms/step - loss: 0.6011 - naive_loss: 0.3155 - output_loss: 0.2856 - val_loss: 0.5990 - val_naive_loss: 0.3055 - val_output_loss: 0.2935 - lr: 0.0015\n",
            "Epoch 5/100\n",
            "422/422 [==============================] - 31s 74ms/step - loss: 0.5839 - naive_loss: 0.3093 - output_loss: 0.2746 - val_loss: 0.6018 - val_naive_loss: 0.3044 - val_output_loss: 0.2974 - lr: 0.0015\n",
            "Epoch 6/100\n",
            "422/422 [==============================] - 28s 66ms/step - loss: 0.5651 - naive_loss: 0.3081 - output_loss: 0.2570 - val_loss: 0.6299 - val_naive_loss: 0.3041 - val_output_loss: 0.3259 - lr: 0.0015\n",
            "Epoch 7/100\n",
            "422/422 [==============================] - 28s 66ms/step - loss: 0.5306 - naive_loss: 0.3074 - output_loss: 0.2232 - val_loss: 0.6266 - val_naive_loss: 0.3040 - val_output_loss: 0.3227 - lr: 0.0015\n",
            "Epoch 8/100\n",
            "422/422 [==============================] - 31s 74ms/step - loss: 0.4797 - naive_loss: 0.3069 - output_loss: 0.1728 - val_loss: 0.7157 - val_naive_loss: 0.3035 - val_output_loss: 0.4122 - lr: 0.0015\n",
            "Epoch 9/100\n",
            "422/422 [==============================] - 28s 67ms/step - loss: 0.4149 - naive_loss: 0.3067 - output_loss: 0.1082 - val_loss: 0.8152 - val_naive_loss: 0.3049 - val_output_loss: 0.5102 - lr: 0.0015\n",
            "Epoch 10/100\n",
            "422/422 [==============================] - 30s 71ms/step - loss: 0.3380 - naive_loss: 0.3058 - output_loss: 0.0322 - val_loss: 0.9743 - val_naive_loss: 0.3026 - val_output_loss: 0.6717 - lr: 3.0000e-04\n",
            "Epoch 11/100\n",
            "422/422 [==============================] - 30s 72ms/step - loss: 0.3134 - naive_loss: 0.3056 - output_loss: 0.0078 - val_loss: 1.1402 - val_naive_loss: 0.3024 - val_output_loss: 0.8378 - lr: 3.0000e-04\n",
            "Epoch 12/100\n",
            "422/422 [==============================] - 28s 66ms/step - loss: 0.3074 - naive_loss: 0.3055 - output_loss: 0.0019 - val_loss: 1.2937 - val_naive_loss: 0.3023 - val_output_loss: 0.9913 - lr: 3.0000e-04\n",
            "Epoch 13/100\n",
            "422/422 [==============================] - 29s 69ms/step - loss: 0.3059 - naive_loss: 0.3054 - output_loss: 5.1399e-04 - val_loss: 1.4061 - val_naive_loss: 0.3023 - val_output_loss: 1.1038 - lr: 3.0000e-04\n",
            "Epoch 14/100\n",
            "422/422 [==============================] - 29s 68ms/step - loss: 0.3056 - naive_loss: 0.3053 - output_loss: 2.5135e-04 - val_loss: 1.4774 - val_naive_loss: 0.3020 - val_output_loss: 1.1754 - lr: 3.0000e-04\n"
          ]
        },
        {
          "output_type": "execute_result",
          "data": {
            "text/plain": [
              "<keras.callbacks.History at 0x7fb0f0692b90>"
            ]
          },
          "metadata": {},
          "execution_count": 11
        }
      ]
    },
    {
      "cell_type": "markdown",
      "metadata": {
        "id": "OggqG9ZiXCHZ"
      },
      "source": [
        "Save the model"
      ]
    },
    {
      "cell_type": "code",
      "metadata": {
        "colab": {
          "base_uri": "https://localhost:8080/"
        },
        "id": "vxutXaqsK0SR",
        "outputId": "f3626f05-bbc6-44d6-ca51-36831025cdf3"
      },
      "source": [
        "model.save('/content/drive/MyDrive/convnet_data/models/naive_mixture')"
      ],
      "execution_count": null,
      "outputs": [
        {
          "output_type": "stream",
          "name": "stderr",
          "text": [
            "WARNING:absl:Found untraced functions such as leaky_re_lu_10_layer_call_fn, leaky_re_lu_10_layer_call_and_return_conditional_losses, leaky_re_lu_10_layer_call_fn, leaky_re_lu_10_layer_call_and_return_conditional_losses, leaky_re_lu_10_layer_call_and_return_conditional_losses while saving (showing 5 of 5). These functions will not be directly callable after loading.\n"
          ]
        },
        {
          "output_type": "stream",
          "name": "stdout",
          "text": [
            "INFO:tensorflow:Assets written to: /content/drive/MyDrive/convnet_data/models/naive_mixture/assets\n"
          ]
        },
        {
          "output_type": "stream",
          "name": "stderr",
          "text": [
            "INFO:tensorflow:Assets written to: /content/drive/MyDrive/convnet_data/models/naive_mixture/assets\n"
          ]
        }
      ]
    },
    {
      "cell_type": "markdown",
      "metadata": {
        "id": "o73hvxZVXUHx"
      },
      "source": [
        "We can load it back in later if we want"
      ]
    },
    {
      "cell_type": "code",
      "metadata": {
        "id": "M6Lq3FLFijTA"
      },
      "source": [
        "# model = load_model('/content/drive/MyDrive/convnet_data/models/naive_mixture')"
      ],
      "execution_count": null,
      "outputs": []
    },
    {
      "cell_type": "markdown",
      "metadata": {
        "id": "KmDfgZB0XW6j"
      },
      "source": [
        "Now make some predictions using the test set. In a real-world system we would create a 3rd model evaluation set for this stage, as we're using the same data the training process was using to decide if the model was any good or not!"
      ]
    },
    {
      "cell_type": "code",
      "metadata": {
        "id": "wr7LaOSgRocK",
        "colab": {
          "base_uri": "https://localhost:8080/"
        },
        "outputId": "f1d2799a-0801-4dfc-eb57-0a1742004960"
      },
      "source": [
        "y_pred = model.predict([x_test, xaux_test])"
      ],
      "execution_count": null,
      "outputs": [
        {
          "output_type": "stream",
          "name": "stderr",
          "text": [
            "/usr/local/lib/python3.7/dist-packages/tensorflow/python/data/ops/dataset_ops.py:4527: UserWarning: Even though the `tf.config.experimental_run_functions_eagerly` option is set, this option does not apply to tf.data functions. To force eager execution of tf.data functions, please use `tf.data.experimental.enable_debug_mode()`.\n",
            "  \"Even though the `tf.config.experimental_run_functions_eagerly` \"\n"
          ]
        }
      ]
    },
    {
      "cell_type": "markdown",
      "metadata": {
        "id": "D_EPneNTYJcK"
      },
      "source": [
        "We can visualise how the model is performing on a small range of shots and sanity check vs the Statsbomb xG. Of course the Statsbomb value uses a wide range of different inputs which we're not using here, so some significant differences should be expected from time to time."
      ]
    },
    {
      "cell_type": "code",
      "metadata": {
        "colab": {
          "base_uri": "https://localhost:8080/",
          "height": 1000
        },
        "id": "VuyMO6HjP0wT",
        "outputId": "f226ec9f-8c9d-45b9-f5cc-f03e0f087e7d"
      },
      "source": [
        "for i in range(5):  # plot a selection of input images from the test set\n",
        "\n",
        "    # display original images\n",
        "    print('shot {0} with Statsbomb xG = {1} and predicted xG = {3} and naive xG = {2}'.format(i, out_test['statsbomb_xg'].iloc[i], y_pred[0][i],y_pred[1][i]))\n",
        "    plt.imshow(x_test[i, :, :, 0] +(x_test[i, :, :, 1]*0.5) + (x_test[i, :, :, 2]*0.75), cmap='nipy_spectral')  # 4th argument is the channel number so select 0, 1 or 2\n",
        "    plt.show()"
      ],
      "execution_count": null,
      "outputs": [
        {
          "output_type": "stream",
          "name": "stdout",
          "text": [
            "shot 0 with Statsbomb xG = 0.012727052 and predicted xG = [0.02313554] and naive xG = [0.01536606]\n"
          ]
        },
        {
          "output_type": "display_data",
          "data": {
            "image/png": "[encoded data removed]",
            "text/plain": [
              "<Figure size 432x288 with 1 Axes>"
            ]
          },
          "metadata": {
            "needs_background": "light"
          }
        },
        {
          "output_type": "stream",
          "name": "stdout",
          "text": [
            "shot 1 with Statsbomb xG = 0.02678909 and predicted xG = [0.00324257] and naive xG = [0.01623939]\n"
          ]
        },
        {
          "output_type": "display_data",
          "data": {
            "image/png": "[encoded data removed]",
            "text/plain": [
              "<Figure size 432x288 with 1 Axes>"
            ]
          },
          "metadata": {
            "needs_background": "light"
          }
        },
        {
          "output_type": "stream",
          "name": "stdout",
          "text": [
            "shot 2 with Statsbomb xG = 0.30320165 and predicted xG = [0.27528405] and naive xG = [0.3418094]\n"
          ]
        },
        {
          "output_type": "display_data",
          "data": {
            "image/png": "[encoded data removed]",
            "text/plain": [
              "<Figure size 432x288 with 1 Axes>"
            ]
          },
          "metadata": {
            "needs_background": "light"
          }
        },
        {
          "output_type": "stream",
          "name": "stdout",
          "text": [
            "shot 3 with Statsbomb xG = 0.079877675 and predicted xG = [0.15636982] and naive xG = [0.08405253]\n"
          ]
        },
        {
          "output_type": "display_data",
          "data": {
            "image/png": "[encoded data removed]",
            "text/plain": [
              "<Figure size 432x288 with 1 Axes>"
            ]
          },
          "metadata": {
            "needs_background": "light"
          }
        },
        {
          "output_type": "stream",
          "name": "stdout",
          "text": [
            "shot 4 with Statsbomb xG = 0.030465763 and predicted xG = [0.02228012] and naive xG = [0.04334265]\n"
          ]
        },
        {
          "output_type": "display_data",
          "data": {
            "image/png": "[encoded data removed]",
            "text/plain": [
              "<Figure size 432x288 with 1 Axes>"
            ]
          },
          "metadata": {
            "needs_background": "light"
          }
        }
      ]
    },
    {
      "cell_type": "markdown",
      "metadata": {
        "id": "UWnrnoRaYw5O"
      },
      "source": [
        "Finally we can check that the model output can actually be interpreted as an xG value. We'll bin the model predictions into 15 bins between 0 and 1. We'll then take the average actual goal outcome of each of those bins. If we plot those average outcomes vs the mid-point of our bins then we'd expect a straight line from 0,0 to 1,1.\n",
        "\n",
        "We can now see how well the model performs vs this calibration line."
      ]
    },
    {
      "cell_type": "code",
      "metadata": {
        "colab": {
          "base_uri": "https://localhost:8080/",
          "height": 295
        },
        "id": "5hEwJUFgwJWr",
        "outputId": "d5011157-31fe-49a8-ed27-3591f275069f"
      },
      "source": [
        "ccurve = calibration_curve(y_test, y_pred[1], n_bins=15)  # returns true proportion [0] and average predicted prob [1]\n",
        "plt.scatter(ccurve[1], ccurve[0])\n",
        "plt.title('CNN model Calibration Curve')\n",
        "plt.xlabel('Average of model predicted xG')\n",
        "plt.ylabel('Average of actual goal outcome')\n",
        "x = [0, 1]\n",
        "y = [0, 1]\n",
        "plt.plot(x, y, '--')\n",
        "plt.show()"
      ],
      "execution_count": null,
      "outputs": [
        {
          "output_type": "display_data",
          "data": {
            "image/png": "[encoded data removed]",
            "text/plain": [
              "<Figure size 432x288 with 1 Axes>"
            ]
          },
          "metadata": {
            "needs_background": "light"
          }
        }
      ]
    },
    {
      "cell_type": "markdown",
      "metadata": {
        "id": "23tdQzfHZy9h"
      },
      "source": [
        "Once you're happy with a model and really want to put it through it's paces you can create an interactive web app.\n",
        "\n",
        "Clone https://github.com/sharmaabhishekk/Interactive-freeze-frames-xg and modify the cosmetic HTML, CSS and Javascript as you wish\n",
        "\n",
        "Then all you need to do is convert the model into tfjs format. It is a simple one-liner below. \n",
        "\n",
        "Once this has run you can drop the output json and bin files into the `models` folder of your web app's directory. And that's it!"
      ]
    },
    {
      "cell_type": "code",
      "metadata": {
        "id": "JTAzLaxmxnnJ"
      },
      "source": [
        "tfjs.converters.save_keras_model(model, '/content/drive/MyDrive/convnet_data/models')"
      ],
      "execution_count": null,
      "outputs": []
    }
  ]
}